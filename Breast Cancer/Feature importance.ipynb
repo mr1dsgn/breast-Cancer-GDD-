{
  "cells": [
    {
      "metadata": {
        "trusted": true
      },
      "cell_type": "code",
      "source": "import numpy as np\nimport matplotlib.pyplot as plt\nimport pandas as pd\nfrom sklearn.cross_validation import train_test_split\nfrom sklearn.preprocessing import StandardScaler\nfrom sklearn.cluster import KMeans\nimport sklearn.cluster as cs\nfrom sklearn.feature_selection import VarianceThreshold\nfrom sklearn.feature_selection import SelectKBest\nfrom sklearn.feature_selection import chi2\nimport pickle\nfrom sklearn import (cross_validation, feature_selection, pipeline,\n                     preprocessing, linear_model, grid_search)\nimport pandas as pd\ndataset = pd.read_csv('data.csv')\ndataset = dataset.drop(['id'], axis=1)\ndataset.head()\ntarget = 'diagnosis'\nvar = dataset.var().sort_values()\n\ndataset = dataset[['area_worst','area_mean','texture_worst','radius_mean','perimeter_se',target]]\n\n\nsample = dataset[dataset[target] == 1]\ncontrol = dataset[dataset[target] == 0]\nX_sample = sample.iloc[:, sample.columns != target].values\nX_control = control.iloc[:, control.columns != target].values\n\nsc = StandardScaler()\nsc.fit(np.vstack((X_sample,X_control)))\nX_sample = sc.transform(X_sample)\nX_control = sc.transform(X_control)",
      "execution_count": 1,
      "outputs": [
        {
          "output_type": "stream",
          "text": "/home/nbuser/anaconda3_501/lib/python3.6/site-packages/sklearn/cross_validation.py:41: DeprecationWarning: This module was deprecated in version 0.18 in favor of the model_selection module into which all the refactored classes and functions are moved. Also note that the interface of the new CV iterators are different from that of this module. This module will be removed in 0.20.\n  \"This module will be removed in 0.20.\", DeprecationWarning)\n/home/nbuser/anaconda3_501/lib/python3.6/site-packages/sklearn/grid_search.py:42: DeprecationWarning: This module was deprecated in version 0.18 in favor of the model_selection module into which all the refactored classes and functions are moved. This module will be removed in 0.20.\n  DeprecationWarning)\n",
          "name": "stderr"
        }
      ]
    },
    {
      "metadata": {
        "trusted": true
      },
      "cell_type": "code",
      "source": "X = dataset.iloc[:, dataset.columns != target].values\ny = dataset.iloc[:, dataset.columns == target].values",
      "execution_count": 14,
      "outputs": []
    },
    {
      "metadata": {
        "trusted": true
      },
      "cell_type": "code",
      "source": "type(X)",
      "execution_count": 15,
      "outputs": [
        {
          "output_type": "execute_result",
          "execution_count": 15,
          "data": {
            "text/plain": "numpy.ndarray"
          },
          "metadata": {}
        }
      ]
    },
    {
      "metadata": {
        "trusted": true
      },
      "cell_type": "code",
      "source": "from sklearn.ensemble import ExtraTreesClassifier\nfrom sklearn.feature_selection import SelectFromModel\nclf = ExtraTreesClassifier()\nclf = clf.fit(X,y)\nmodel = SelectFromModel(clf, prefit=True)\nX = model.transform(X)\nimportances = clf.feature_importances_\nstd = np.std([tree.feature_importances_ for tree in clf.estimators_],axis=0)\nindices = np.argsort(importances)[::-1]\n# Print the feature ranking\nX =[]\nY = []\nfor f in indices:\n    Y.append(importances[indices[f]])\n    X.append(dataset.columns.get_values()[indices[f]])",
      "execution_count": 17,
      "outputs": [
        {
          "output_type": "stream",
          "text": "/home/nbuser/anaconda3_501/lib/python3.6/site-packages/ipykernel/__main__.py:4: DataConversionWarning: A column-vector y was passed when a 1d array was expected. Please change the shape of y to (n_samples,), for example using ravel().\n",
          "name": "stderr"
        }
      ]
    },
    {
      "metadata": {
        "trusted": true
      },
      "cell_type": "code",
      "source": "import matplotlib.pyplot as plt\nplt.figure()\nplt.title(\"Feature importances\")\nplt.bar(X, Y,color=\"r\", align=\"center\")\n#plt.xticks(X, Y)\nplt.xticks(rotation=90)\nplt.savefig('filename.png',dpi = 1000)\nplt.show()\n# Plot the feature importances of the forest\nplt.savefig('feature_importance.png', dpi=300)\nplt.show()",
      "execution_count": 18,
      "outputs": [
        {
          "output_type": "display_data",
          "data": {
            "image/png": "[encoded data removed]",
            "text/plain": "<Figure size 432x288 with 1 Axes>"
          },
          "metadata": {
            "needs_background": "light"
          }
        },
        {
          "output_type": "display_data",
          "data": {
            "text/plain": "<Figure size 432x288 with 0 Axes>"
          },
          "metadata": {}
        }
      ]
    },
    {
      "metadata": {
        "trusted": true
      },
      "cell_type": "code",
      "source": "X",
      "execution_count": 19,
      "outputs": [
        {
          "output_type": "execute_result",
          "execution_count": 19,
          "data": {
            "text/plain": "['perimeter_se', 'radius_mean', 'area_worst', 'texture_worst', 'area_mean']"
          },
          "metadata": {}
        }
      ]
    },
    {
      "metadata": {
        "trusted": true
      },
      "cell_type": "code",
      "source": "Y",
      "execution_count": 21,
      "outputs": [
        {
          "output_type": "execute_result",
          "execution_count": 21,
          "data": {
            "text/plain": "[0.11960938524562999,\n 0.287408196109712,\n 0.26687201171827374,\n 0.11680973631078373,\n 0.2093006706156005]"
          },
          "metadata": {}
        }
      ]
    },
    {
      "metadata": {
        "trusted": true
      },
      "cell_type": "code",
      "source": "",
      "execution_count": null,
      "outputs": []
    }
  ],
  "metadata": {
    "kernelspec": {
      "name": "python36",
      "display_name": "Python 3.6",
      "language": "python"
    },
    "language_info": {
      "mimetype": "text/x-python",
      "nbconvert_exporter": "python",
      "name": "python",
      "pygments_lexer": "ipython3",
      "version": "3.6.6",
      "file_extension": ".py",
      "codemirror_mode": {
        "version": 3,
        "name": "ipython"
      }
    }
  },
  "nbformat": 4,
  "nbformat_minor": 1
}