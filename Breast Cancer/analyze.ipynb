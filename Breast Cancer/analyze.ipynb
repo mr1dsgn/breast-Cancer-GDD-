{
  "cells": [
    {
      "metadata": {
        "trusted": true
      },
      "cell_type": "code",
      "source": "import numpy as np\nimport matplotlib.pyplot as plt\nimport pandas as pd\nfrom sklearn.cross_validation import train_test_split\nfrom sklearn.preprocessing import StandardScaler\nfrom sklearn.cluster import KMeans\nimport sklearn.cluster as cs\nfrom sklearn.feature_selection import VarianceThreshold\nfrom sklearn.feature_selection import SelectKBest\nfrom sklearn.feature_selection import chi2\nimport pickle\nfrom sklearn import (cross_validation, feature_selection, pipeline,\n                     preprocessing, linear_model, grid_search)\nimport pandas as pd\ndataset = pd.read_csv('data.csv')\ndataset = dataset.drop(['id'], axis=1)\ndataset.head()\ntarget = 'diagnosis'\nvar = dataset.var().sort_values()\n\ndataset = dataset[['area_worst','area_mean','texture_worst','radius_mean','perimeter_se',target]]\n\n\nsample = dataset[dataset[target] == 1]\ncontrol = dataset[dataset[target] == 0]\nX_sample = sample.iloc[:, sample.columns != target].values\nX_control = control.iloc[:, control.columns != target].values\n\nsc = StandardScaler()\nsc.fit(np.vstack((X_sample,X_control)))\nX_sample = sc.transform(X_sample)\nX_control = sc.transform(X_control)\n\n\n\nfrom sklearn.decomposition import PCA\npca = PCA(n_components=3)\npca.fit(np.vstack((X_sample,X_control)))\nX_sample = pca.transform(X_sample)\nX_control = pca.transform(X_control)\n\n\n# X_sample = np.transpose(X_sample)\n# X_control = np.transpose(X_control)\n# import matplotlib.pyplot as plt\n# plt.scatter(X_sample[0], X_sample[1], c='red', alpha=0.5)\n# plt.scatter(X_control[0], X_control[1], c='blue', alpha=0.5)\n# plt.savefig('f2d.png', dpi=300, quality = 95)\n# plt.show()\n\n\n\nR = X_sample\nB = X_control\n\nfrom mpl_toolkits.mplot3d.axes3d import Axes3D\nimport matplotlib.pyplot as plt\nfig,ax = plt.subplots(subplot_kw={'projection':'3d'})\nR = np.transpose(R)\nB = np.transpose(B)\n\nax.scatter(R[0],R[1],R[2],c='red')\nax.scatter(B[0],B[1],B[2],c='blue')\nax.set_xlabel('PCA0')\nax.set_ylabel('PCA1')\nax.set_zlabel('PCA2')\nplt.savefig('f3d.png', dpi=300, quality = 95)\nplt.show()",
      "execution_count": 1,
      "outputs": [
        {
          "output_type": "stream",
          "text": "/home/nbuser/anaconda3_501/lib/python3.6/site-packages/sklearn/cross_validation.py:41: DeprecationWarning: This module was deprecated in version 0.18 in favor of the model_selection module into which all the refactored classes and functions are moved. Also note that the interface of the new CV iterators are different from that of this module. This module will be removed in 0.20.\n  \"This module will be removed in 0.20.\", DeprecationWarning)\n/home/nbuser/anaconda3_501/lib/python3.6/site-packages/sklearn/grid_search.py:42: DeprecationWarning: This module was deprecated in version 0.18 in favor of the model_selection module into which all the refactored classes and functions are moved. This module will be removed in 0.20.\n  DeprecationWarning)\n",
          "name": "stderr"
        },
        {
          "output_type": "display_data",
          "data": {
            "text/plain": "<Figure size 640x480 with 1 Axes>"
          },
          "metadata": {}
        }
      ]
    },
    {
      "metadata": {
        "trusted": true
      },
      "cell_type": "code",
      "source": "",
      "execution_count": null,
      "outputs": []
    }
  ],
  "metadata": {
    "kernelspec": {
      "name": "python36",
      "display_name": "Python 3.6",
      "language": "python"
    },
    "language_info": {
      "mimetype": "text/x-python",
      "nbconvert_exporter": "python",
      "name": "python",
      "pygments_lexer": "ipython3",
      "version": "3.6.6",
      "file_extension": ".py",
      "codemirror_mode": {
        "version": 3,
        "name": "ipython"
      }
    }
  },
  "nbformat": 4,
  "nbformat_minor": 2
}